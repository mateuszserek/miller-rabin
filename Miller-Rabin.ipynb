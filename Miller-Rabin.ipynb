{
 "cells": [
  {
   "cell_type": "markdown",
   "id": "87f168c8-945b-40fa-9133-ddb48e9ea2f8",
   "metadata": {},
   "source": [
    "# Test Millera-Rabina\n",
    "\n",
    "#### Autorzy:\n",
    "- Mateusz Serek \n",
    "- Weronika Sadoch"
   ]
  },
  {
   "cell_type": "markdown",
   "id": "f0959cf1-ccc1-4e6c-bb5a-6911b68c2b8d",
   "metadata": {},
   "source": [
    "### Załadujmy niezbędne biblioteki:"
   ]
  },
  {
   "cell_type": "code",
   "execution_count": 4,
   "id": "a45d054b-cf8f-49a2-9264-6db8a719ac24",
   "metadata": {},
   "outputs": [],
   "source": [
    "import numpy as np\n",
    "import matplotlib.pyplot as plt\n",
    "import random\n",
    "from ipywidgets import interactive\n",
    "import ipywidgets as widgets"
   ]
  },
  {
   "cell_type": "markdown",
   "id": "7953eb72-e0e5-4476-9cbb-d05a0cb7a2d1",
   "metadata": {},
   "source": [
    "## Wprowadzenie\n",
    "\n",
    "Test pierwszości Millera-Rabina został opracowany w 1975 roku przez Michaela Rabina na podstawie wcześniejszych prac Gary'ego Millera. Pozwala on sprawdzić, czy dana liczba naturalna $n$ jest liczbą złożoną czy prawdopodobnie pierwszą.\n",
    "\n",
    "Metoda ta opiera się na deterministycznym algorytmie Millera, którego poprawność jest warunkowa i zależy od nieudowodnionej uogólnionej hipotezy Riemanna. Michael O. Rabin zmodyfikował ten algorytm, przekształcając go w test probabilistyczny i udowodnił jego poprawność w tej formie.\n",
    "\n",
    "Algorytm stosuje się wyłącznie do liczb nieparzystych, ponieważ liczby parzyste (z wyjątkiem dwójki) są w oczywisty sposób liczbami złożonymi.\n"
   ]
  },
  {
   "cell_type": "markdown",
   "id": "a6ab0cc3-3e7a-4730-a52a-97406c4ffef8",
   "metadata": {},
   "source": [
    "## Twierdzenia\n",
    "Test w głównej mierze opiera się na twierdzeniu Eulera oraz własności ciągu Millera-Rabina:\n",
    "### Twierdzenie Eulera\n",
    "Niech $n$ będzie liczbą pierwszą, $a$ liczbą naturalną taką, że $NWD(a,n)=1$. Wtedy zachodzi:\n",
    "$ a^{n-1} \\equiv 1  \\pmod n$\n",
    "\n",
    "Z twierdzenia wynika, że jeśli $n$ jest liczbą pierwszą, to dla dowolnego $a$, które jest względnie pierwsze z $n$, spełniona jest równość:\n",
    "$ a^{n-1} \\equiv 1 \\pmod n$. \n",
    "\n",
    "Jeżeli równość nie zostanie spełniona, to liczba $n$ jest liczbą złożoną.\n",
    "\n",
    "### Ciąg Millera Rabina\n",
    "\n",
    "Niech $p$ będzie nieparzystą liczbą pierwszą zapisaną jako $p = 1+2^sd$, gdzie $d$ jest liczbą nieparzystą. \n",
    "\n",
    "Wtedy dla dowolnej liczby naturalnej $a ∈ <2, p-2>$ tworzymy ciąg Millera-Rabina: \n",
    "    $a^d, a^{2d}, a^{4d}, …, a^{2^{r-1}}, a^{2^r} \\pmod p$\n",
    ", który kończy się liczbą $1$. \n",
    "\n",
    "Dodatkowo, jeśli $a^d \\not\\equiv 1 \\pmod p$ do $1$, to wyraz ciągu Millera-Rabina, który bezpośrednio poprzeda $1$, jest równy $p-1$."
   ]
  },
  {
   "cell_type": "markdown",
   "id": "e38388b5",
   "metadata": {},
   "source": [
    "## Cechy \n",
    "Test Millera-Rabina jest testem probalistycznym, co oznacza, że metoda jest szybka, ale może zwrócić błędną odpowiedź z pewnym prawdopodobieństwem, które możemy kontrolować zmieniając liczbe prób.\n",
    "\n",
    "Po wykonaniu testu dostajemy jedną z dwóch odpowiedzi:\n",
    "- `FALSE` – liczba **złożona** (z prawdopodobieństwem 100%)\n",
    "- `TRUE` – liczba **prawdopodobnie pierwsza** (ryzyko błędu maleje wykładniczo wraz z liczbą prób).\n",
    "\n",
    "\n",
    "Jeśli dla pewnej bazy $a$ test zwróci `FALSE`, oznacza to, że liczba złamała warunki wynikające z twierdzenia Eulera. Oznacza to, że mamy **pewność**, że jest to liczba **złożona**.\n",
    "\n"
   ]
  },
  {
   "cell_type": "markdown",
   "id": "a8c5dcdb-4506-4eb8-ad5c-697e5b0f49a7",
   "metadata": {},
   "source": [
    "## Algorytm - wersja podstawowa\n",
    "Dane są $n >= 5$\n",
    "1. Szukamy takich liczb naturalnych $s, d$: $s \\neq d$, gdzie $s$ jest nieparzyste oraz $n - 1  = 2 ^{s}$ * $ d$.\n",
    "2. Wybierzmy liczbę losową $a$ taką, że $1 < a < n$\n",
    "3. Niech $b = a ^{d}$. Jeżeli $b \\equiv  1$ (mod $n$), zwróć prawdę.\n",
    "4. W przeciwnym wypadku jeżeli $b^{2^{r}} \\equiv -1$ (mod $n$)  $\\forall r$ $1 \\le  r \\le  s-1$, zwróć prawdę.\n",
    "5. W przeciwnym wypadku zwróć fałsz\n",
    "\n",
    "Zwrócona prawda oznacza, że liczba $n$ jest prawdopodobnie pierwsza, w przypadku fałszu liczba $n$ napewno nie jest liczbą pierwszą."
   ]
  },
  {
   "cell_type": "markdown",
   "id": "88113c76-7ae6-402f-b379-c65c02dfe3e7",
   "metadata": {},
   "source": [
    "## Prawdopodobieństwo oraz ulepszenie testu\n",
    "\n",
    "Gdy liczba $p$ przejdzie test, oznacza to, że albo jest liczbą pierwszą albo silnie pseudopierwszą względem podstawy $a$.\n",
    "\n",
    "Test Millera–Rabina może błędnie uznać liczbę złożoną za pierwszą, jednak prawdopodobieństwo wynosi $\\frac{1}{4}$, a dla $n$ przebiegów przy różnych bazach $a$ prawdopodobieństwo błędu spada do $(\\frac{1}{4})^n$. Już dwadzieścia testów daje szansę $1 : 1099511627776$, że liczba złożona $p$ zostanie potraktowana jako liczba pierwsza. \n",
    "Można zatem stwierdzić, że im więcej wykonamy losowych testów, tym większa jest pewność poprawności wyniku.\n",
    "\n",
    "### Wykonaj poniższy kod aby zobaczyć wizualizację"
   ]
  },
  {
   "cell_type": "code",
   "execution_count": 6,
   "id": "6ab20c11-84fd-41cf-afed-2d8c9b6ff206",
   "metadata": {},
   "outputs": [
    {
     "data": {
      "application/vnd.jupyter.widget-view+json": {
       "model_id": "194dbee18e5548edb14efeb7be251a92",
       "version_major": 2,
       "version_minor": 0
      },
      "text/plain": [
       "interactive(children=(IntSlider(value=1, description='Zmiana skali', max=6, min=1), Output()), _dom_classes=('…"
      ]
     },
     "execution_count": 6,
     "metadata": {},
     "output_type": "execute_result"
    }
   ],
   "source": [
    "def show_probability(N):\n",
    "    n = np.arange(N, N + 5)\n",
    "    y = (1/4) ** n\n",
    "\n",
    "    plt.figure(figsize = (10, 8))\n",
    "    plt.plot(n, y, 'o-', color='blue', label = '0.25 ** n')\n",
    "    plt.title('Prawdopodobieństwo fałszywej odpowiedzi dla liczby prób')\n",
    "    plt.xlabel('Liczba prób (n)')\n",
    "    plt.ylabel('Prawdopodobieństwo')\n",
    "\n",
    "    plt.grid(True)\n",
    "    plt.legend()\n",
    "    plt.xticks(n)\n",
    "    plt.show()\n",
    "\n",
    "interactive(show_probability, N = widgets.IntSlider(min = 1, max = 6, step = 1, value = 1, description = 'Zmiana skali'))"
   ]
  },
  {
   "cell_type": "markdown",
   "id": "5b42d21a-761e-48ee-a210-224d29c35c6f",
   "metadata": {},
   "source": [
    "Zmieniając skalę wykresu widzimy, jak szybko zmiejsza się prawdopodobieństwo niepoprawnej odpowiedzi."
   ]
  },
  {
   "cell_type": "markdown",
   "id": "bf712648-13d3-412a-aa6b-713aaf04a0e3",
   "metadata": {},
   "source": [
    "## Implementacja Testu Millera-Rabina w SageMath (Python)"
   ]
  },
  {
   "cell_type": "code",
   "execution_count": 8,
   "id": "02ebad89-b4c9-49d8-9b54-5cf47ecb17c2",
   "metadata": {},
   "outputs": [],
   "source": [
    "def miller_rabbin(n: int, k: int) -> bool: \n",
    "    #n - testowana liczba\n",
    "    #k - ilość prób \n",
    "\n",
    "    def power_mod(a: int, b: int, c: int) -> int: #funkcja pomocnicza do obliczenia potęgi modulo\n",
    "        result = 1\n",
    "        for i in range(b):\n",
    "            result *= a \n",
    "            result %= c \n",
    "        return result\n",
    "    \n",
    "    if n < 5:\n",
    "        raise ValueError(f\"number = {n} cannot be below 5\")\n",
    "        \n",
    "    if k < 0:\n",
    "        raise ValueError(f\"number of tests = {k} cannot be below 0\")\n",
    "        \n",
    "    if n % 2 == 0:\n",
    "        return False\n",
    "    \n",
    "    d = n - 1\n",
    "    s = 0\n",
    "    \n",
    "    while d % 2 == 0: #Krok 1.\n",
    "        s += 1\n",
    "        d //= 2\n",
    "        \n",
    "    for p in range(k): # Po ulepszeniu algorytmu wykonywane jest wiele prób. \n",
    "        a = random.randint(2, n) #Krok 2.\n",
    "        b = power_mod(a, d, n)\n",
    "        \n",
    "        for q in range(s): \n",
    "            y = (b * b) % n\n",
    "            \n",
    "            if y == 1 and b != 1 and b != n - 1: # -1 (mod n) = n - 1 (mod n), warunek z kroku 4.\n",
    "                return False\n",
    "            \n",
    "            b = y\n",
    "            \n",
    "        if y != 1: # W ulepszonej wersji algorytmu warunek z kroku 3. jest sprawdzany na końcu iteracji.\n",
    "            return False\n",
    "        \n",
    "    return True  # Jeśli żadna próba nie wykluczy pierwszości, zwrócona zostanie prawda"
   ]
  },
  {
   "cell_type": "markdown",
   "id": "d4a00e4a-6827-4d30-aa00-4020d0327226",
   "metadata": {},
   "source": [
    "### Sprawdźmy działanie algorytmu."
   ]
  },
  {
   "cell_type": "code",
   "execution_count": 9,
   "id": "37b43749-1108-4c5b-98f5-fdb0bcb9a7b3",
   "metadata": {},
   "outputs": [
    {
     "name": "stdout",
     "output_type": "stream",
     "text": [
      "Liczba 550034 na pewno nie jest pierwsza\n",
      "Liczba 164060 na pewno nie jest pierwsza\n",
      "Liczba 255745 na pewno nie jest pierwsza\n",
      "Liczba 154800 na pewno nie jest pierwsza\n",
      "Liczba 422453 prawdopodobnie jest pierwsza\n",
      "Liczba 667676 na pewno nie jest pierwsza\n",
      "Liczba 300128 na pewno nie jest pierwsza\n",
      "Liczba 400030 na pewno nie jest pierwsza\n",
      "Liczba 918363 na pewno nie jest pierwsza\n",
      "Liczba 138611 na pewno nie jest pierwsza\n",
      "Liczba 156421 prawdopodobnie jest pierwsza\n",
      "Liczba 343758 na pewno nie jest pierwsza\n",
      "Liczba 579848 na pewno nie jest pierwsza\n",
      "Liczba 460279 na pewno nie jest pierwsza\n",
      "Liczba 833725 na pewno nie jest pierwsza\n",
      "Liczba 967997 na pewno nie jest pierwsza\n",
      "Liczba 330945 na pewno nie jest pierwsza\n",
      "Liczba 131801 na pewno nie jest pierwsza\n",
      "Liczba 709850 na pewno nie jest pierwsza\n",
      "Liczba 770601 na pewno nie jest pierwsza\n"
     ]
    }
   ],
   "source": [
    "numbers = [random.randint(10 ** 5, 10 ** 6) for i in range(20)]\n",
    "for i in numbers:\n",
    "    result = miller_rabbin(i, 9) # wykonywane 9 prób dla kazdej liczby.\n",
    "    if result:\n",
    "        print(f\"Liczba {i} prawdopodobnie jest pierwsza\")\n",
    "    else:\n",
    "        print(f\"Liczba {i} na pewno nie jest pierwsza\")"
   ]
  },
  {
   "cell_type": "markdown",
   "id": "726bf5a9",
   "metadata": {},
   "source": [
    "Prawdopodobieństwo nieprawidłowej odpowiedzi dla liczb, które zostały uznane za pierwsze to:\n",
    "$$(\\frac{1}{4})^9 \\approx 3,8 * 10^{-6}$$\n",
    "gdzie $9$ to liczba wykonanych prób.\n"
   ]
  },
  {
   "cell_type": "markdown",
   "id": "31efdcde-9887-41f9-9fe6-fb507de435d7",
   "metadata": {},
   "source": [
    "## Złożoność obliczeniowa\n",
    "\n",
    "Dla jednej bazy obliczenia opierają się na szybkim potęgowaniu modulo: \n",
    "$ O(log \\text{ }d)$.\n",
    "\n",
    "W najgorszym przypadku algorytm wykonuje maksymalnie $s$ kroków sprawdzających, co prowadzi do złożoności rzędu $O(log^2 n)$\n",
    "\n",
    "Aby zwiększyć prawdopodobieństwo poprawnego wyniku, test wykonuje się wielokrotnie dla różnych baz.  \n",
    "Dla $a$ niezależnych baz złożoność rośnie liniowo względem ich liczby i wynosi:  \n",
    "$ O(a \\cdot log^2 n)$\n",
    "\n",
    "W praktyce algorytm okazuje się bardzo wydajny podczas  sprawdzania pierwszości dużych liczb."
   ]
  },
  {
   "cell_type": "markdown",
   "id": "970d7f28",
   "metadata": {},
   "source": [
    "## Zastosowania\n",
    "\n",
    "Test wykorzystujemy wszędzie tam, gdzie potrzebne są duże liczby pierwsze, np. w:\n",
    "- kryptografii (generowanie kluczy RSA),\n",
    "- protokołach bezpieczeństwa,\n",
    "- systemach szyfrowania danych,\n",
    "- losowaniu dużych liczb pierwszych."
   ]
  },
  {
   "cell_type": "markdown",
   "id": "6a76daa4-07f4-4e49-9e63-0775db8124df",
   "metadata": {},
   "source": [
    "### Źródła\n",
    "https://wstein.org/ent/ent.pdf <br>\n",
    "https://en.wikipedia.org/wiki/Miller–Rabin_primality_test <br>\n",
    "http://www.algorytm.org/algorytmy-arytmetyczne/test-pierwszosci-test-millera-rabina.html <br>\n",
    "https://eduinf.waw.pl/inf/alg/001_search/0019.php"
   ]
  }
 ],
 "metadata": {
  "kernelspec": {
   "display_name": ".venv",
   "language": "python",
   "name": "python3"
  },
  "language_info": {
   "codemirror_mode": {
    "name": "ipython",
    "version": 3
   },
   "file_extension": ".py",
   "mimetype": "text/x-python",
   "name": "python",
   "nbconvert_exporter": "python",
   "pygments_lexer": "ipython3",
   "version": "3.13.3"
  }
 },
 "nbformat": 4,
 "nbformat_minor": 5
}
