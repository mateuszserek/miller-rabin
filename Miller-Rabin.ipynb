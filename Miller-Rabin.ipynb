{
 "cells": [
  {
   "cell_type": "markdown",
   "id": "87f168c8-945b-40fa-9133-ddb48e9ea2f8",
   "metadata": {},
   "source": [
    "# Test Millera-Rabina\n",
    "\n",
    "#### Autorzy:\n",
    "1. Mateusz Serek \n",
    "2. Weronika Sadoch"
   ]
  },
  {
   "cell_type": "markdown",
   "id": "b13febbb-1048-457a-9853-97437c9e0586",
   "metadata": {},
   "source": [
    "### Załadujmy odpowiednie biblioteki"
   ]
  },
  {
   "cell_type": "code",
   "execution_count": 1,
   "id": "2f480fb5-147c-45d8-9a96-ec4b71a789af",
   "metadata": {},
   "outputs": [],
   "source": [
    "import random\n",
    "import ipywidgets as widgets"
   ]
  },
  {
   "cell_type": "markdown",
   "id": "7953eb72-e0e5-4476-9cbb-d05a0cb7a2d1",
   "metadata": {},
   "source": [
    "## Wprowadzenie\n",
    "Test pierwszości Millera-Rabina służy do sprawdzenia czy zadana liczba jest złożona, czy prawdopodobnie pierwsza.\n"
   ]
  },
  {
   "cell_type": "markdown",
   "id": "a6ab0cc3-3e7a-4730-a52a-97406c4ffef8",
   "metadata": {},
   "source": [
    "## Teoria\n",
    "\n",
    "#### Twierdzenie Eulera\n",
    "Jeżeli: \n",
    "$$ NWD(x,n)=1 $$ \n",
    "To: \n",
    "$$ x^{\\varphi(n)} \\equiv 1 \\text{ }(mod\\text{ }n) $$"
   ]
  },
  {
   "cell_type": "markdown",
   "id": "a8c5dcdb-4506-4eb8-ad5c-697e5b0f49a7",
   "metadata": {},
   "source": [
    "## Lista kroków\n",
    "Dane są $n >= 5$\n",
    "1. Szukamy takich liczb naturalnych $s, d$: $s \\neq d$, gdzie $s$ jest nieparzyste oraz $n - 1  = 2 ^{s}$ * $ d$. Można to wykonać przez \n",
    "2. Wybierzmy liczbę losową $a$ taką, że $1 < a < n$\n",
    "3. Niech $b = a ^{d}$. Jeżeli $b \\equiv  1$ (mod $n$), zwróć prawdę.\n",
    "4. W przeciwnym wypadku jeżeli $b^{2^{r}} \\equiv -1$ (mod $n$), gdzie $\\forall r$ $1 \\le  r \\le  k-1$, zwróć prawdę.\n",
    "5. W przeciwnym wypadku zwróć fałsz\n",
    "\n",
    "Zwrócona prawda oznacza, że liczba $n$ jest prawdopodobnie pierwsza, w przypadku fałszu liczba $n$ napewno nie jest liczbą pierwszą."
   ]
  },
  {
   "cell_type": "markdown",
   "id": "88113c76-7ae6-402f-b379-c65c02dfe3e7",
   "metadata": {},
   "source": [
    "## Usprawnienie testu\n",
    "Aby Zwiększyć prawdopodobieństwo trzeba zwiększyć liczbę prób wykonanych dla danej liczby."
   ]
  },
  {
   "cell_type": "markdown",
   "id": "bf712648-13d3-412a-aa6b-713aaf04a0e3",
   "metadata": {},
   "source": [
    "## Implementacja Testu Millera-Rabina w SageMath"
   ]
  },
  {
   "cell_type": "code",
   "execution_count": null,
   "id": "02ebad89-b4c9-49d8-9b54-5cf47ecb17c2",
   "metadata": {},
   "outputs": [],
   "source": [
    "def miller_rabbin(n: int, k: int) -> bool: \n",
    "    #n - testowana liczba\n",
    "    #k - dokladnosc...\n",
    "    \n",
    "    if n < 5:\n",
    "        raise ValueError(f\"n = {n} cannot be below 5\")\n",
    "        \n",
    "    if k < 0:\n",
    "        raise ValueError(f\"k = {k} cannot be below 0\")\n",
    "        \n",
    "    if n % 2 == 0:\n",
    "        return False\n",
    "    \n",
    "    d = n - 1\n",
    "    s = 0\n",
    "    \n",
    "    while d % 2 == 0: #Krok 1.\n",
    "        s += 1\n",
    "        d /= 2\n",
    "        \n",
    "    for _ in range(k):\n",
    "        a = random.randint(2, n) #Krok 2.\n",
    "        b = (a ** d) % n \n",
    "        \n",
    "        for _ in range(s): #Krok 4.\n",
    "            y = (b ** 2) % n\n",
    "            \n",
    "            if y == 1 and b != 1 and b != n - 1:\n",
    "                return False\n",
    "            \n",
    "            b = y\n",
    "            \n",
    "        if y != 1:\n",
    "            return False\n",
    "        \n",
    "    return True"
   ]
  },
  {
   "cell_type": "markdown",
   "id": "d4a00e4a-6827-4d30-aa00-4020d0327226",
   "metadata": {},
   "source": [
    "### Sprawdźmy działanie algorytmu."
   ]
  },
  {
   "cell_type": "code",
   "execution_count": 13,
   "id": "37b43749-1108-4c5b-98f5-fdb0bcb9a7b3",
   "metadata": {},
   "outputs": [
    {
     "ename": "OverflowError",
     "evalue": "(34, 'Result too large')",
     "output_type": "error",
     "traceback": [
      "\u001b[31m---------------------------------------------------------------------------\u001b[39m",
      "\u001b[31mOverflowError\u001b[39m                             Traceback (most recent call last)",
      "\u001b[36mCell\u001b[39m\u001b[36m \u001b[39m\u001b[32mIn[13]\u001b[39m\u001b[32m, line 1\u001b[39m\n\u001b[32m----> \u001b[39m\u001b[32m1\u001b[39m \u001b[38;5;28mprint\u001b[39m(\u001b[43mmiller_rabbin\u001b[49m\u001b[43m(\u001b[49m\u001b[32;43m10029\u001b[39;49m\u001b[43m,\u001b[49m\u001b[43m \u001b[49m\u001b[32;43m1\u001b[39;49m\u001b[43m)\u001b[49m)   \n\u001b[32m      2\u001b[39m \u001b[38;5;28mprint\u001b[39m(miller_rabbin(\u001b[32m1029\u001b[39m, \u001b[32m5\u001b[39m))   \n\u001b[32m      3\u001b[39m \u001b[38;5;28mprint\u001b[39m(miller_rabbin(\u001b[32m1029\u001b[39m, \u001b[32m10\u001b[39m))   \n",
      "\u001b[36mCell\u001b[39m\u001b[36m \u001b[39m\u001b[32mIn[8]\u001b[39m\u001b[32m, line 23\u001b[39m, in \u001b[36mmiller_rabbin\u001b[39m\u001b[34m(n, k)\u001b[39m\n\u001b[32m     21\u001b[39m \u001b[38;5;28;01mfor\u001b[39;00m _ \u001b[38;5;129;01min\u001b[39;00m \u001b[38;5;28mrange\u001b[39m(k):\n\u001b[32m     22\u001b[39m     a = random.randint(\u001b[32m2\u001b[39m, n) \u001b[38;5;66;03m#Krok 2.\u001b[39;00m\n\u001b[32m---> \u001b[39m\u001b[32m23\u001b[39m     b = (\u001b[43ma\u001b[49m\u001b[43m \u001b[49m\u001b[43m*\u001b[49m\u001b[43m*\u001b[49m\u001b[43m \u001b[49m\u001b[43md\u001b[49m) % n \n\u001b[32m     25\u001b[39m     \u001b[38;5;28;01mfor\u001b[39;00m _ \u001b[38;5;129;01min\u001b[39;00m \u001b[38;5;28mrange\u001b[39m(s): \u001b[38;5;66;03m#Krok 4.\u001b[39;00m\n\u001b[32m     26\u001b[39m         y = (b ** \u001b[32m2\u001b[39m) % n\n",
      "\u001b[31mOverflowError\u001b[39m: (34, 'Result too large')"
     ]
    }
   ],
   "source": [
    "print(miller_rabbin(10029, 1))   \n",
    "print(miller_rabbin(1029, 5))   \n",
    "print(miller_rabbin(1029, 10))   \n",
    "print(miller_rabbin(1729, 20))   "
   ]
  },
  {
   "cell_type": "markdown",
   "id": "31efdcde-9887-41f9-9fe6-fb507de435d7",
   "metadata": {},
   "source": [
    "## Złożoność obliczeniowa\n",
    "lorem ipsum "
   ]
  },
  {
   "cell_type": "markdown",
   "id": "6a76daa4-07f4-4e49-9e63-0775db8124df",
   "metadata": {},
   "source": [
    "### Źródła\n",
    "https://wstein.org/ent/ent.pdf <br>\n",
    "https://en.wikipedia.org/wiki/Miller–Rabin_primality_test"
   ]
  },
  {
   "cell_type": "code",
   "execution_count": null,
   "id": "201be143-d71b-49f2-b17d-62f7006a083c",
   "metadata": {},
   "outputs": [],
   "source": []
  }
 ],
 "metadata": {
  "kernelspec": {
   "display_name": ".venv",
   "language": "python",
   "name": "python3"
  },
  "language_info": {
   "codemirror_mode": {
    "name": "ipython",
    "version": 3
   },
   "file_extension": ".py",
   "mimetype": "text/x-python",
   "name": "python",
   "nbconvert_exporter": "python",
   "pygments_lexer": "ipython3",
   "version": "3.13.3"
  }
 },
 "nbformat": 4,
 "nbformat_minor": 5
}
